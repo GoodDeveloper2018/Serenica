{
 "cells": [
  {
   "cell_type": "code",
   "execution_count": 52,
   "id": "461d6b6e-c6b7-4a95-b136-56f696f04829",
   "metadata": {},
   "outputs": [],
   "source": [
    "import pandas as pd\n",
    "import re\n",
    "from sklearn.feature_extraction.text import TfidfVectorizer\n",
    "from sklearn.metrics.pairwise import cosine_similarity\n",
    "from nltk.corpus import stopwords\n",
    "from nltk.tokenize import word_tokenize\n",
    "from nltk.stem import WordNetLemmatizer"
   ]
  },
  {
   "cell_type": "code",
   "execution_count": 54,
   "id": "48340a87-356c-4821-90ff-3394cff13023",
   "metadata": {},
   "outputs": [
    {
     "name": "stderr",
     "output_type": "stream",
     "text": [
      "[nltk_data] Downloading package stopwords to\n",
      "[nltk_data]     /Users/arshpurohit/nltk_data...\n",
      "[nltk_data]   Package stopwords is already up-to-date!\n",
      "[nltk_data] Downloading package punkt to\n",
      "[nltk_data]     /Users/arshpurohit/nltk_data...\n",
      "[nltk_data]   Unzipping tokenizers/punkt.zip.\n",
      "[nltk_data] Downloading package wordnet to\n",
      "[nltk_data]     /Users/arshpurohit/nltk_data...\n"
     ]
    },
    {
     "data": {
      "text/plain": [
       "True"
      ]
     },
     "execution_count": 54,
     "metadata": {},
     "output_type": "execute_result"
    }
   ],
   "source": [
    "import nltk\n",
    "nltk.download('stopwords')\n",
    "nltk.download('punkt')\n",
    "nltk.download('wordnet')"
   ]
  },
  {
   "cell_type": "code",
   "execution_count": 56,
   "id": "52d62de9-0d12-4bbc-a6c6-e5a204e0e3ca",
   "metadata": {},
   "outputs": [
    {
     "name": "stdout",
     "output_type": "stream",
     "text": [
      "                                              prompt  \\\n",
      "0  Me and the father of my child have been dating...   \n",
      "1  I can't seem to feel any emotion except anxiet...   \n",
      "2  why do we allow one or few bad experiences whe...   \n",
      "3  I have major depression, severe, PTSD, anxiety...   \n",
      "4                              do i need a therapist   \n",
      "\n",
      "                                          completion  \n",
      "0  It sounds like you are feeling very alone and ...  \n",
      "1  It is possible that you are experiencing sympt...  \n",
      "2  There are a few possible explanations for why ...  \n",
      "3  It is understandable that you are feeling upse...  \n",
      "4  There is no one-size-fits-all answer to this q...  \n"
     ]
    }
   ],
   "source": [
    "# Replace 'file_path' with the actual path to your CSV file\n",
    "conversations = pd.read_csv(r\"/Users/arshpurohit/Downloads/reddit_text-davinci-002.csv\")\n",
    "\n",
    "# Check if the data loaded properly\n",
    "print(conversations.head())\n"
   ]
  },
  {
   "cell_type": "code",
   "execution_count": 62,
   "id": "150cfa76-2bde-48ca-8cc8-12a932b27a2f",
   "metadata": {},
   "outputs": [
    {
     "name": "stdout",
     "output_type": "stream",
     "text": [
      "sample text test preprocess function\n"
     ]
    }
   ],
   "source": [
    "# Preprocess function to clean and preprocess the text\n",
    "def preprocess_text(text):\n",
    "    # Lowercase the text\n",
    "    text = text.lower()\n",
    "    \n",
    "    # Remove punctuation and numbers\n",
    "    text = re.sub(r'[^\\w\\s]', '', text)\n",
    "    \n",
    "    # Remove stopwords\n",
    "    stop_words = set(stopwords.words('english'))\n",
    "    word_tokens = word_tokenize(text)\n",
    "    filtered_words = [word for word in word_tokens if word not in stop_words]\n",
    "    \n",
    "    # Lemmatize words (optional)\n",
    "    lemmatizer = WordNetLemmatizer()\n",
    "    lemmatized_words = [lemmatizer.lemmatize(word) for word in filtered_words]\n",
    "    \n",
    "    # Join the cleaned words back into a single string\n",
    "    return ' '.join(lemmatized_words)\n",
    "\n",
    "# Test the preprocess function on a sample string\n",
    "sample_text = \"This is a sample text to test the preprocess function.\"\n",
    "print(preprocess_text(sample_text))"
   ]
  },
  {
   "cell_type": "code",
   "execution_count": 64,
   "id": "1fe847e3-a8ba-4ad3-b3d6-933093202d1b",
   "metadata": {},
   "outputs": [
    {
     "name": "stdout",
     "output_type": "stream",
     "text": [
      "                                              prompt  \\\n",
      "0  Me and the father of my child have been dating...   \n",
      "1  I can't seem to feel any emotion except anxiet...   \n",
      "2  why do we allow one or few bad experiences whe...   \n",
      "3  I have major depression, severe, PTSD, anxiety...   \n",
      "4                              do i need a therapist   \n",
      "\n",
      "                                      cleaned_prompt  \n",
      "0  father child dating year big argument first wa...  \n",
      "1         cant seem feel emotion except anxiety even  \n",
      "2  allow one bad experience felt worthless dictat...  \n",
      "3  major depression severe ptsd anxiety disorder ...  \n",
      "4                                     need therapist  \n"
     ]
    }
   ],
   "source": [
    "# Make sure that 'prompt' exists in the DataFrame before proceeding\n",
    "if 'prompt' in conversations.columns:\n",
    "    conversations['cleaned_prompt'] = conversations['prompt'].fillna('').apply(preprocess_text)\n",
    "    print(conversations[['prompt', 'cleaned_prompt']].head())  # Show original and cleaned data\n",
    "else:\n",
    "    print(\"Column 'prompt' not found in DataFrame\")"
   ]
  },
  {
   "cell_type": "code",
   "execution_count": 66,
   "id": "37dac118-6b05-4896-98e8-39bada820cc2",
   "metadata": {},
   "outputs": [
    {
     "name": "stdout",
     "output_type": "stream",
     "text": [
      "(1522, 3671)\n"
     ]
    }
   ],
   "source": [
    "# Initialize vectorizer and fit on the preprocessed prompts\n",
    "vectorizer = TfidfVectorizer()\n",
    "tfidf_matrix = vectorizer.fit_transform(conversations[\"cleaned_prompt\"])\n",
    "\n",
    "# Check the shape of the tfidf_matrix to confirm successful transformation\n",
    "print(tfidf_matrix.shape)"
   ]
  },
  {
   "cell_type": "code",
   "execution_count": 68,
   "id": "c794fe10-277e-4144-8e40-86aca682717a",
   "metadata": {},
   "outputs": [
    {
     "name": "stdout",
     "output_type": "stream",
     "text": [
      "There could be many reasons why you are feeling sad. It could be due to a recent loss, or something that is happening in your life that is causing you stress. It is also possible that you are simply feeling down for no specific reason. If you are feeling persistently sad, it might be a good idea to talk to a doctor or therapist, who can help you figure out what might be causing your sadness and how to deal with it.\n"
     ]
    }
   ],
   "source": [
    "# Function to get the best response based on user input\n",
    "def get_best_response(user_input, df, tfidf_matrix, vectorizer):\n",
    "    # Preprocess user input\n",
    "    cleaned_input = preprocess_text(user_input)\n",
    "    \n",
    "    # Transform user input into vector\n",
    "    user_input_vector = vectorizer.transform([cleaned_input])\n",
    "    \n",
    "    # Calculate cosine similarity\n",
    "    cosine_similarities = cosine_similarity(user_input_vector, tfidf_matrix)\n",
    "    \n",
    "    # Get index of the best match\n",
    "    best_match_index = cosine_similarities.argmax()\n",
    "    \n",
    "    # Check if the best match is actually similar (optional threshold)\n",
    "    if cosine_similarities[0][best_match_index] < 0.1:  # Adjust threshold as needed\n",
    "        return \"I'm sorry, I don't understand your question.\"\n",
    "    \n",
    "    # Return the best matched response\n",
    "    return df.iloc[best_match_index][\"completion\"]\n",
    "\n",
    "# Test the function with a sample user input\n",
    "sample_input = \"I'm feeling sad today\"\n",
    "response = get_best_response(sample_input, conversations, tfidf_matrix, vectorizer)\n",
    "print(response)"
   ]
  },
  {
   "cell_type": "code",
   "execution_count": null,
   "id": "aef70c11-7464-44cc-8002-7e2f9f9ea1a5",
   "metadata": {},
   "outputs": [
    {
     "name": "stdin",
     "output_type": "stream",
     "text": [
      "Ask me something:  I got fired from my facebook app developing job and I was making good money\n"
     ]
    },
    {
     "name": "stdout",
     "output_type": "stream",
     "text": [
      "There are a number of ways to get help without spending any money. One option is to look for free or low-cost services in your community, such as support groups or counseling services. You can also search online for self-help resources, such as articles or blog posts about coping with difficult situations. Finally, you can talk to friends or family members for support and advice.\n"
     ]
    },
    {
     "name": "stdin",
     "output_type": "stream",
     "text": [
      "Ask me something:  I don't like how my day is going\n"
     ]
    },
    {
     "name": "stdout",
     "output_type": "stream",
     "text": [
      "There is no one definitive answer to this question. It could be a variety of things, ranging from a mental health issue to a physical health issue. If you're concerned about what is going on with you, it's best to consult with a doctor or mental health professional to get a more specific answer.\n"
     ]
    },
    {
     "name": "stdin",
     "output_type": "stream",
     "text": [
      "Ask me something:  I got late to work and my boss was mad\n"
     ]
    },
    {
     "name": "stdout",
     "output_type": "stream",
     "text": [
      "Yes, this is an example of co-dependency. Co-dependency is when someone is excessively reliant on another person for support and validation. In this case, you are excessively reliant on your boss for feedback and approval. This can be harmful to both you and your boss, as it can create a power imbalance and prevent you from developing as an independent thinker and worker. If you think you may be co-dependent, it is important to seek professional help to learn how to develop healthier coping mechanisms and relationships.\n"
     ]
    }
   ],
   "source": [
    "# Run the chatbot\n",
    "while True:\n",
    "    user_input = input(\"Ask me something: \")\n",
    "    if user_input.lower() == 'exit':\n",
    "        print(\"Exiting chatbot...\")\n",
    "        break\n",
    "    response = get_best_response(user_input, conversations, tfidf_matrix, vectorizer)\n",
    "    print(response)"
   ]
  },
  {
   "cell_type": "code",
   "execution_count": null,
   "id": "6ae09d23-6afc-4a40-99ca-70d0422226ce",
   "metadata": {},
   "outputs": [],
   "source": []
  }
 ],
 "metadata": {
  "kernelspec": {
   "display_name": "Python 3 (ipykernel)",
   "language": "python",
   "name": "python3"
  },
  "language_info": {
   "codemirror_mode": {
    "name": "ipython",
    "version": 3
   },
   "file_extension": ".py",
   "mimetype": "text/x-python",
   "name": "python",
   "nbconvert_exporter": "python",
   "pygments_lexer": "ipython3",
   "version": "3.12.4"
  }
 },
 "nbformat": 4,
 "nbformat_minor": 5
}

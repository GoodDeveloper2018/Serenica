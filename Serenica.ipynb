{
 "cells": [
  {
   "cell_type": "code",
   "execution_count": 1,
   "id": "439afdd7-a79f-42db-ab4f-8be2f1378070",
   "metadata": {},
   "outputs": [],
   "source": [
    "import pandas as pd"
   ]
  },
  {
   "cell_type": "code",
   "execution_count": 17,
   "id": "224f1f6d-b3cb-427b-9497-d8abc7037a53",
   "metadata": {},
   "outputs": [],
   "source": [
    "conversations = pd.read_csv(r\"C:\\Users\\Zacha\\Downloads\\reddit_text-davinci-002.csv\")"
   ]
  },
  {
   "cell_type": "code",
   "execution_count": 19,
   "id": "76f7aaca-a078-4cce-b478-c91aa375a6e4",
   "metadata": {},
   "outputs": [
    {
     "data": {
      "text/html": [
       "<div>\n",
       "<style scoped>\n",
       "    .dataframe tbody tr th:only-of-type {\n",
       "        vertical-align: middle;\n",
       "    }\n",
       "\n",
       "    .dataframe tbody tr th {\n",
       "        vertical-align: top;\n",
       "    }\n",
       "\n",
       "    .dataframe thead th {\n",
       "        text-align: right;\n",
       "    }\n",
       "</style>\n",
       "<table border=\"1\" class=\"dataframe\">\n",
       "  <thead>\n",
       "    <tr style=\"text-align: right;\">\n",
       "      <th></th>\n",
       "      <th>prompt</th>\n",
       "      <th>completion</th>\n",
       "    </tr>\n",
       "  </thead>\n",
       "  <tbody>\n",
       "    <tr>\n",
       "      <th>0</th>\n",
       "      <td>Me and the father of my child have been dating...</td>\n",
       "      <td>It sounds like you are feeling very alone and ...</td>\n",
       "    </tr>\n",
       "    <tr>\n",
       "      <th>1</th>\n",
       "      <td>I can't seem to feel any emotion except anxiet...</td>\n",
       "      <td>It is possible that you are experiencing sympt...</td>\n",
       "    </tr>\n",
       "    <tr>\n",
       "      <th>2</th>\n",
       "      <td>why do we allow one or few bad experiences whe...</td>\n",
       "      <td>There are a few possible explanations for why ...</td>\n",
       "    </tr>\n",
       "    <tr>\n",
       "      <th>3</th>\n",
       "      <td>I have major depression, severe, PTSD, anxiety...</td>\n",
       "      <td>It is understandable that you are feeling upse...</td>\n",
       "    </tr>\n",
       "    <tr>\n",
       "      <th>4</th>\n",
       "      <td>do i need a therapist</td>\n",
       "      <td>There is no one-size-fits-all answer to this q...</td>\n",
       "    </tr>\n",
       "    <tr>\n",
       "      <th>...</th>\n",
       "      <td>...</td>\n",
       "      <td>...</td>\n",
       "    </tr>\n",
       "    <tr>\n",
       "      <th>1517</th>\n",
       "      <td>What should my next course of action be after ...</td>\n",
       "      <td>The next course of action would be to consult ...</td>\n",
       "    </tr>\n",
       "    <tr>\n",
       "      <th>1518</th>\n",
       "      <td>Most people don't care. The ones that do care ...</td>\n",
       "      <td>There is still value in reaching out, even if ...</td>\n",
       "    </tr>\n",
       "    <tr>\n",
       "      <th>1519</th>\n",
       "      <td>A video exploring positive habits to increase ...</td>\n",
       "      <td>The following are some positive habits that ca...</td>\n",
       "    </tr>\n",
       "    <tr>\n",
       "      <th>1520</th>\n",
       "      <td>i can't keep up with school</td>\n",
       "      <td>It can be tough to keep up with school when yo...</td>\n",
       "    </tr>\n",
       "    <tr>\n",
       "      <th>1521</th>\n",
       "      <td>Looking for some advice. Not sure what to do a...</td>\n",
       "      <td>If you're not sure what to do anymore, it migh...</td>\n",
       "    </tr>\n",
       "  </tbody>\n",
       "</table>\n",
       "<p>1522 rows × 2 columns</p>\n",
       "</div>"
      ],
      "text/plain": [
       "                                                 prompt  \\\n",
       "0     Me and the father of my child have been dating...   \n",
       "1     I can't seem to feel any emotion except anxiet...   \n",
       "2     why do we allow one or few bad experiences whe...   \n",
       "3     I have major depression, severe, PTSD, anxiety...   \n",
       "4                                 do i need a therapist   \n",
       "...                                                 ...   \n",
       "1517  What should my next course of action be after ...   \n",
       "1518  Most people don't care. The ones that do care ...   \n",
       "1519  A video exploring positive habits to increase ...   \n",
       "1520                        i can't keep up with school   \n",
       "1521  Looking for some advice. Not sure what to do a...   \n",
       "\n",
       "                                             completion  \n",
       "0     It sounds like you are feeling very alone and ...  \n",
       "1     It is possible that you are experiencing sympt...  \n",
       "2     There are a few possible explanations for why ...  \n",
       "3     It is understandable that you are feeling upse...  \n",
       "4     There is no one-size-fits-all answer to this q...  \n",
       "...                                                 ...  \n",
       "1517  The next course of action would be to consult ...  \n",
       "1518  There is still value in reaching out, even if ...  \n",
       "1519  The following are some positive habits that ca...  \n",
       "1520  It can be tough to keep up with school when yo...  \n",
       "1521  If you're not sure what to do anymore, it migh...  \n",
       "\n",
       "[1522 rows x 2 columns]"
      ]
     },
     "execution_count": 19,
     "metadata": {},
     "output_type": "execute_result"
    }
   ],
   "source": [
    "conversations"
   ]
  },
  {
   "cell_type": "code",
   "execution_count": null,
   "id": "33d6bb5c-afcd-4f15-add8-f32c24a57800",
   "metadata": {},
   "outputs": [],
   "source": []
  }
 ],
 "metadata": {
  "kernelspec": {
   "display_name": "Python 3 (ipykernel)",
   "language": "python",
   "name": "python3"
  },
  "language_info": {
   "codemirror_mode": {
    "name": "ipython",
    "version": 3
   },
   "file_extension": ".py",
   "mimetype": "text/x-python",
   "name": "python",
   "nbconvert_exporter": "python",
   "pygments_lexer": "ipython3",
   "version": "3.12.4"
  }
 },
 "nbformat": 4,
 "nbformat_minor": 5
}

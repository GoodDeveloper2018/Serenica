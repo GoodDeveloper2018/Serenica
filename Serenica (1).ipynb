{
 "cells": [
  {
   "cell_type": "code",
   "execution_count": 1,
   "id": "439afdd7-a79f-42db-ab4f-8be2f1378070",
   "metadata": {},
   "outputs": [],
   "source": [
    "import pandas as pd"
   ]
  },
  {
   "cell_type": "code",
   "execution_count": 17,
   "id": "224f1f6d-b3cb-427b-9497-d8abc7037a53",
   "metadata": {},
   "outputs": [],
   "source": [
    "conversations = pd.read_csv(r\"C:\\Users\\Zacha\\Downloads\\reddit_text-davinci-002.csv\")"
   ]
  },
  {
   "cell_type": "code",
   "execution_count": 19,
   "id": "76f7aaca-a078-4cce-b478-c91aa375a6e4",
   "metadata": {},
   "outputs": [
    {
     "data": {
      "text/html": [
       "<div>\n",
       "<style scoped>\n",
       "    .dataframe tbody tr th:only-of-type {\n",
       "        vertical-align: middle;\n",
       "    }\n",
       "\n",
       "    .dataframe tbody tr th {\n",
       "        vertical-align: top;\n",
       "    }\n",
       "\n",
       "    .dataframe thead th {\n",
       "        text-align: right;\n",
       "    }\n",
       "</style>\n",
       "<table border=\"1\" class=\"dataframe\">\n",
       "  <thead>\n",
       "    <tr style=\"text-align: right;\">\n",
       "      <th></th>\n",
       "      <th>prompt</th>\n",
       "      <th>completion</th>\n",
       "    </tr>\n",
       "  </thead>\n",
       "  <tbody>\n",
       "    <tr>\n",
       "      <th>0</th>\n",
       "      <td>Me and the father of my child have been dating...</td>\n",
       "      <td>It sounds like you are feeling very alone and ...</td>\n",
       "    </tr>\n",
       "    <tr>\n",
       "      <th>1</th>\n",
       "      <td>I can't seem to feel any emotion except anxiet...</td>\n",
       "      <td>It is possible that you are experiencing sympt...</td>\n",
       "    </tr>\n",
       "    <tr>\n",
       "      <th>2</th>\n",
       "      <td>why do we allow one or few bad experiences whe...</td>\n",
       "      <td>There are a few possible explanations for why ...</td>\n",
       "    </tr>\n",
       "    <tr>\n",
       "      <th>3</th>\n",
       "      <td>I have major depression, severe, PTSD, anxiety...</td>\n",
       "      <td>It is understandable that you are feeling upse...</td>\n",
       "    </tr>\n",
       "    <tr>\n",
       "      <th>4</th>\n",
       "      <td>do i need a therapist</td>\n",
       "      <td>There is no one-size-fits-all answer to this q...</td>\n",
       "    </tr>\n",
       "    <tr>\n",
       "      <th>...</th>\n",
       "      <td>...</td>\n",
       "      <td>...</td>\n",
       "    </tr>\n",
       "    <tr>\n",
       "      <th>1517</th>\n",
       "      <td>What should my next course of action be after ...</td>\n",
       "      <td>The next course of action would be to consult ...</td>\n",
       "    </tr>\n",
       "    <tr>\n",
       "      <th>1518</th>\n",
       "      <td>Most people don't care. The ones that do care ...</td>\n",
       "      <td>There is still value in reaching out, even if ...</td>\n",
       "    </tr>\n",
       "    <tr>\n",
       "      <th>1519</th>\n",
       "      <td>A video exploring positive habits to increase ...</td>\n",
       "      <td>The following are some positive habits that ca...</td>\n",
       "    </tr>\n",
       "    <tr>\n",
       "      <th>1520</th>\n",
       "      <td>i can't keep up with school</td>\n",
       "      <td>It can be tough to keep up with school when yo...</td>\n",
       "    </tr>\n",
       "    <tr>\n",
       "      <th>1521</th>\n",
       "      <td>Looking for some advice. Not sure what to do a...</td>\n",
       "      <td>If you're not sure what to do anymore, it migh...</td>\n",
       "    </tr>\n",
       "  </tbody>\n",
       "</table>\n",
       "<p>1522 rows × 2 columns</p>\n",
       "</div>"
      ],
      "text/plain": [
       "                                                 prompt  \\\n",
       "0     Me and the father of my child have been dating...   \n",
       "1     I can't seem to feel any emotion except anxiet...   \n",
       "2     why do we allow one or few bad experiences whe...   \n",
       "3     I have major depression, severe, PTSD, anxiety...   \n",
       "4                                 do i need a therapist   \n",
       "...                                                 ...   \n",
       "1517  What should my next course of action be after ...   \n",
       "1518  Most people don't care. The ones that do care ...   \n",
       "1519  A video exploring positive habits to increase ...   \n",
       "1520                        i can't keep up with school   \n",
       "1521  Looking for some advice. Not sure what to do a...   \n",
       "\n",
       "                                             completion  \n",
       "0     It sounds like you are feeling very alone and ...  \n",
       "1     It is possible that you are experiencing sympt...  \n",
       "2     There are a few possible explanations for why ...  \n",
       "3     It is understandable that you are feeling upse...  \n",
       "4     There is no one-size-fits-all answer to this q...  \n",
       "...                                                 ...  \n",
       "1517  The next course of action would be to consult ...  \n",
       "1518  There is still value in reaching out, even if ...  \n",
       "1519  The following are some positive habits that ca...  \n",
       "1520  It can be tough to keep up with school when yo...  \n",
       "1521  If you're not sure what to do anymore, it migh...  \n",
       "\n",
       "[1522 rows x 2 columns]"
      ]
     },
     "execution_count": 19,
     "metadata": {},
     "output_type": "execute_result"
    }
   ],
   "source": [
    "conversations"
   ]
  },
  {
   "cell_type": "code",
   "execution_count": 21,
   "id": "33d6bb5c-afcd-4f15-add8-f32c24a57800",
   "metadata": {},
   "outputs": [
    {
     "data": {
      "text/html": [
       "<div>\n",
       "<style scoped>\n",
       "    .dataframe tbody tr th:only-of-type {\n",
       "        vertical-align: middle;\n",
       "    }\n",
       "\n",
       "    .dataframe tbody tr th {\n",
       "        vertical-align: top;\n",
       "    }\n",
       "\n",
       "    .dataframe thead th {\n",
       "        text-align: right;\n",
       "    }\n",
       "</style>\n",
       "<table border=\"1\" class=\"dataframe\">\n",
       "  <thead>\n",
       "    <tr style=\"text-align: right;\">\n",
       "      <th></th>\n",
       "      <th>prompt</th>\n",
       "      <th>completion</th>\n",
       "    </tr>\n",
       "  </thead>\n",
       "  <tbody>\n",
       "    <tr>\n",
       "      <th>0</th>\n",
       "      <td>Me and the father of my child have been dating...</td>\n",
       "      <td>It sounds like you are feeling very alone and ...</td>\n",
       "    </tr>\n",
       "    <tr>\n",
       "      <th>1</th>\n",
       "      <td>I can't seem to feel any emotion except anxiet...</td>\n",
       "      <td>It is possible that you are experiencing sympt...</td>\n",
       "    </tr>\n",
       "    <tr>\n",
       "      <th>2</th>\n",
       "      <td>why do we allow one or few bad experiences whe...</td>\n",
       "      <td>There are a few possible explanations for why ...</td>\n",
       "    </tr>\n",
       "    <tr>\n",
       "      <th>3</th>\n",
       "      <td>I have major depression, severe, PTSD, anxiety...</td>\n",
       "      <td>It is understandable that you are feeling upse...</td>\n",
       "    </tr>\n",
       "    <tr>\n",
       "      <th>4</th>\n",
       "      <td>do i need a therapist</td>\n",
       "      <td>There is no one-size-fits-all answer to this q...</td>\n",
       "    </tr>\n",
       "  </tbody>\n",
       "</table>\n",
       "</div>"
      ],
      "text/plain": [
       "                                              prompt  \\\n",
       "0  Me and the father of my child have been dating...   \n",
       "1  I can't seem to feel any emotion except anxiet...   \n",
       "2  why do we allow one or few bad experiences whe...   \n",
       "3  I have major depression, severe, PTSD, anxiety...   \n",
       "4                              do i need a therapist   \n",
       "\n",
       "                                          completion  \n",
       "0  It sounds like you are feeling very alone and ...  \n",
       "1  It is possible that you are experiencing sympt...  \n",
       "2  There are a few possible explanations for why ...  \n",
       "3  It is understandable that you are feeling upse...  \n",
       "4  There is no one-size-fits-all answer to this q...  "
      ]
     },
     "execution_count": 21,
     "metadata": {},
     "output_type": "execute_result"
    }
   ],
   "source": [
    "conversations.head()"
   ]
  },
  {
   "cell_type": "code",
   "execution_count": 23,
   "id": "26b4da1b-e809-42f2-b6ec-ce2f4204f694",
   "metadata": {},
   "outputs": [],
   "source": [
    "import pandas as pd\n",
    "from sklearn.feature_extraction.text import TfidfVectorizer\n",
    "from sklearn.metrics.pairwise import cosine_similarity"
   ]
  },
  {
   "cell_type": "code",
   "execution_count": 27,
   "id": "f1956e1c-8a7a-4343-82ab-4d3dcf2064c3",
   "metadata": {},
   "outputs": [],
   "source": [
    "vectorizer = TfidfVectorizer()\n",
    "tfidf_matrix = vectorizer.fit_transform(conversations[\"prompt\"])"
   ]
  },
  {
   "cell_type": "code",
   "execution_count": 29,
   "id": "9c3b8fde-f816-4323-ae3a-71f083bce989",
   "metadata": {},
   "outputs": [],
   "source": [
    "def get_best_response(user_input, df, tfidf_matrix, vectorizer):\n",
    "    user_input_vector = vectorizer.transform([user_input])\n",
    "    cosine_similarities = cosine_similarity(user_input_vector, tfidf_matrix)\n",
    "    best_match_index = cosine_similarities.argmax()\n",
    "    return conversations.iloc[best_match_index][\"completion\"]"
   ]
  },
  {
   "cell_type": "code",
   "execution_count": 35,
   "id": "d1a31279-db29-425a-b743-95c0be782183",
   "metadata": {},
   "outputs": [
    {
     "name": "stdin",
     "output_type": "stream",
     "text": [
      "Ask me something:  hello how are you\n"
     ]
    },
    {
     "name": "stdout",
     "output_type": "stream",
     "text": [
      "I'm sorry, I don't get it.\n"
     ]
    },
    {
     "name": "stdin",
     "output_type": "stream",
     "text": [
      "Ask me something:  my dad and mom are getting divorced\n"
     ]
    },
    {
     "name": "stdout",
     "output_type": "stream",
     "text": [
      "It can be really difficult to choose between two places that you love, especially when it means living apart from one of your parents. Ultimately, you'll need to sit down with both of your parents and figure out what would work best for you logistically and emotionally. If you're feeling stuck, you could try making a list of pros and cons for each option, or talking to a trusted friend or family member for their opinion.\n"
     ]
    },
    {
     "name": "stdin",
     "output_type": "stream",
     "text": [
      "Ask me something:  im not good at anything. what can i do to get better at doing things\n"
     ]
    },
    {
     "name": "stdout",
     "output_type": "stream",
     "text": [
      "I'm sorry to hear that you're feeling stuck. It can be difficult to figure out what to do next when you're feeling lost. Here are a few suggestions that might help you get unstuck and back on track:\n",
      "\n",
      "-Talk to a trusted friend or family member about how you're feeling. It can be helpful to talk to someone who understands and can offer support and guidance.\n",
      "\n",
      "-Reach out to a professional counselor or therapist. Talking to a professional can help you identify unhealthy patterns and thoughts, and they can offer helpful tools and strategies for how to deal with them.\n",
      "\n",
      "-Identify your goals and what you need to do to achieve them. Having a plan can help you feel more in control and\n"
     ]
    },
    {
     "name": "stdin",
     "output_type": "stream",
     "text": [
      "Ask me something:  exit\n"
     ]
    }
   ],
   "source": [
    "while True:\n",
    "    user_input = input(\"Ask me something: \")\n",
    "    if user_input.lower() == 'exit':\n",
    "        break\n",
    "    response = get_best_response(user_input, conversations, tfidf_matrix, vectorizer)\n",
    "    print(response)"
   ]
  },
  {
   "cell_type": "code",
   "execution_count": null,
   "id": "3ff3fc42-e404-4521-9355-b7ba262d098e",
   "metadata": {},
   "outputs": [],
   "source": []
  }
 ],
 "metadata": {
  "kernelspec": {
   "display_name": "Python 3 (ipykernel)",
   "language": "python",
   "name": "python3"
  },
  "language_info": {
   "codemirror_mode": {
    "name": "ipython",
    "version": 3
   },
   "file_extension": ".py",
   "mimetype": "text/x-python",
   "name": "python",
   "nbconvert_exporter": "python",
   "pygments_lexer": "ipython3",
   "version": "3.12.4"
  }
 },
 "nbformat": 4,
 "nbformat_minor": 5
}
